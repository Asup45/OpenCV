{
 "cells": [
  {
   "cell_type": "code",
   "execution_count": 5,
   "metadata": {},
   "outputs": [
    {
     "name": "stdout",
     "output_type": "stream",
     "text": [
      "(261, 1024, 3)\n"
     ]
    }
   ],
   "source": [
    "from PIL import Image\n",
    "import numpy as np\n",
    "imgpil = Image.open(\"res/image_pont.jpg\")  \n",
    "img = np.array(imgpil) # Transformation de l'image en tableau numpy\n",
    "\n",
    "# Afficher les dimmensions de l'image\n",
    "print(img.shape)"
   ]
  },
  {
   "cell_type": "code",
   "execution_count": 6,
   "metadata": {},
   "outputs": [
    {
     "name": "stdout",
     "output_type": "stream",
     "text": [
      "[210 183 156]\n"
     ]
    }
   ],
   "source": [
    "# Afficher les valeurs d'un pixel\n",
    "print(img[200,100])"
   ]
  },
  {
   "cell_type": "code",
   "execution_count": 8,
   "metadata": {},
   "outputs": [
    {
     "name": "stdout",
     "output_type": "stream",
     "text": [
      "[125  30 255]\n"
     ]
    }
   ],
   "source": [
    "# Modification de la valeur d'un pixel\n",
    "img[200,100] = (125,30,255)\n",
    "\n",
    "print(img[200,100])"
   ]
  },
  {
   "cell_type": "markdown",
   "metadata": {},
   "source": [
    "# <center> Création de filtre"
   ]
  },
  {
   "cell_type": "code",
   "execution_count": 11,
   "metadata": {},
   "outputs": [],
   "source": [
    "def filtre_rouge(img_orig):\n",
    "    im = np.copy(img_orig) # On fait une copie de l'original\n",
    "    for i in range(im.shape[0]):\n",
    "        for j in range(im.shape[1]):\n",
    "            r, v, b = im[i, j]\n",
    "            im[i, j] = (r, 0,0)\n",
    "    return im\n",
    "\n",
    "def filtre_bleu(img_orig):\n",
    "    im = np.copy(img_orig) # On fait une copie de l'original\n",
    "    for i in range(im.shape[0]):\n",
    "        for j in range(im.shape[1]):\n",
    "            r, v, b = im[i, j]\n",
    "            im[i, j] = (0, 0,b)\n",
    "    return im\n",
    "\n",
    "def filtre_vert(img_orig):\n",
    "    im = np.copy(img_orig) # On fait une copie de l'original\n",
    "    for i in range(im.shape[0]):\n",
    "        for j in range(im.shape[1]):\n",
    "            r, v, b = im[i, j]\n",
    "            im[i, j] = (0, v,0)\n",
    "    return im\n",
    "\n",
    "imgpil = Image.fromarray(filtre_rouge(img)) # Transformation du tableau en image PIL\n",
    "imgpil.save(\"res/resultat_rouge.jpg\")\n",
    "\n",
    "imgpil = Image.fromarray(filtre_bleu(img)) # Transformation du tableau en image PIL\n",
    "imgpil.save(\"res/resultat_bleu.jpg\")\n",
    "\n",
    "imgpil = Image.fromarray(filtre_vert(img)) # Transformation du tableau en image PIL\n",
    "imgpil.save(\"res/resultat_vert.jpg\")"
   ]
  }
 ],
 "metadata": {
  "kernelspec": {
   "display_name": "OpenCV",
   "language": "python",
   "name": "python3"
  },
  "language_info": {
   "codemirror_mode": {
    "name": "ipython",
    "version": 3
   },
   "file_extension": ".py",
   "mimetype": "text/x-python",
   "name": "python",
   "nbconvert_exporter": "python",
   "pygments_lexer": "ipython3",
   "version": "3.11.7"
  }
 },
 "nbformat": 4,
 "nbformat_minor": 2
}
